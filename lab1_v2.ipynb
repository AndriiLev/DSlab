{
 "cells": [
  {
   "cell_type": "code",
   "execution_count": 1,
   "metadata": {},
   "outputs": [],
   "source": [
    "import pandas as pd\n",
    "import seaborn as sns\n",
    "import matplotlib.pyplot as plt\n",
    "\n",
    "\n",
    "i=1\n",
    "fall=None\n",
    "while i<=31:\n",
    "    file_name=\"d:/vuz/andre/dsbd/lab1/doing_data_science/dds_datasets/dds_ch2_nyt/nyt\"+str(i)+\".csv\"\n",
    "    f1=pd.read_csv(file_name,sep=\",\")\n",
    "    f1.count\n",
    "    f2=pd.concat([fall,f1])\n",
    "    fall=f2\n",
    "    f2.count\n",
    "    i=i+1\n",
    "\n",
    "fall[\"Age_group\"] = fall[\"Age\"].apply(lambda x:\" <18\" if x<18 else \"18-24\"  if x<=24 else \"25-34\" if x<=34  else \"35-44\" if x<=44   else \"45-54\" if x<=54  else \"55-64\" if x<=64  else \"65+\")\n",
    "fall[\"Women\"]=fall[\"Gender\"].apply(lambda x:1-x)\n",
    "fall[\"Men\"]=fall[\"Gender\"]\n",
    "fall[\"People\"]=1\n",
    "print(\"Ошибки ввода\")\n",
    "print(fall[['Age']][fall['Age']==0].count())\n",
    "print(\"Розбивка за віком та статтю\")\n",
    "print(fall[fall['Age']==0].groupby([\"Age_group\",\"Gender\"])[\"Age\"].count())\n",
    "fall=fall[fall['Age']!=0]\n",
    "fall_sum=fall.groupby([\"Age_group\"], as_index=False).sum()\n",
    "fall_sum[\"CAT\"]=fall_sum[\"Clicks\"]/fall_sum[\"Impressions\"]*100\n",
    "diag=fall_sum[[\"Age_group\",\"Impressions\",\"CAT\"]]\n",
    "print(\"діаграма - кількість показів та показник переходів \")\n",
    "print(diag)\n",
    "print(\"Мій DataFrame\")\n",
    "print(fall_sum)\n",
    "fall_gender=fall.groupby([\"Age_group\",\"Gender\"], as_index=False).sum()\n",
    "\n",
    "info = fall_gender.iloc[0:20,]\n",
    "f, (ax1, ax2, ax3,data) = plt.subplots(4, figsize=(12,8))\n",
    "# matplotlib\n",
    "ax1.bar(fall_sum.Age_group, fall_sum.Signed_In)\n",
    "# pandas\n",
    "fall_sum.plot(x=\"Age_group\", y=\"CAT\", kind=\"bar\", ax=ax2)\n",
    "# seaborn\n",
    "#sns.barplot(x=fall_sum.Age_group, y=fall_sum.Impressions, ax=ax3)\n",
    "sns.lineplot(ax=ax3, x=fall_sum.Age_group, y=fall_sum.Impressions)\n",
    "sns.lineplot(x = \"Age_group\", y = \"People\", data=info, hue=\"Gender\", palette = \"Set1\")\n",
    "plt.show()\n",
    "\n",
    "\n",
    "\n"
   ]
  }
 ],
 "metadata": {
  "kernelspec": {
   "display_name": "Python 3",
   "language": "python",
   "name": "python3"
  },
  "language_info": {
   "codemirror_mode": {
    "name": "ipython",
    "version": 3
   },
   "file_extension": ".py",
   "mimetype": "text/x-python",
   "name": "python",
   "nbconvert_exporter": "python",
   "pygments_lexer": "ipython3",
   "version": "3.11.5"
  },
  "orig_nbformat": 4
 },
 "nbformat": 4,
 "nbformat_minor": 2
}
